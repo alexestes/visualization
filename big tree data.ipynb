{
 "cells": [
  {
   "cell_type": "code",
   "execution_count": 2,
   "metadata": {
    "collapsed": true
   },
   "outputs": [],
   "source": [
    "import pandas as pd\n",
    "import numpy as np\n",
    "\n",
    "import seaborn as sns\n",
    "import matplotlib.pyplot as plt\n",
    "from sklearn.ensemble import RandomForestClassifier\n",
    "from sklearn.model_selection import train_test_split\n",
    "from sklearn import svm\n",
    "\n",
    "%matplotlib inline"
   ]
  },
  {
   "cell_type": "code",
   "execution_count": 3,
   "metadata": {
    "collapsed": true
   },
   "outputs": [],
   "source": [
    "df = pd.read_csv(\"sonnett.csv\").sample(frac=.1)"
   ]
  },
  {
   "cell_type": "code",
   "execution_count": 4,
   "metadata": {
    "collapsed": true
   },
   "outputs": [],
   "source": [
    "df['is_reverse'] = df['is_reverse'].apply(lambda x: int(x))"
   ]
  },
  {
   "cell_type": "code",
   "execution_count": 5,
   "metadata": {
    "collapsed": true
   },
   "outputs": [],
   "source": [
    "df['target'] = df['is_reverse']"
   ]
  },
  {
   "cell_type": "code",
   "execution_count": 6,
   "metadata": {
    "collapsed": true
   },
   "outputs": [],
   "source": [
    "features = df.columns[5:-1]"
   ]
  },
  {
   "cell_type": "code",
   "execution_count": 7,
   "metadata": {},
   "outputs": [
    {
     "data": {
      "text/html": [
       "<div>\n",
       "<style>\n",
       "    .dataframe thead tr:only-child th {\n",
       "        text-align: right;\n",
       "    }\n",
       "\n",
       "    .dataframe thead th {\n",
       "        text-align: left;\n",
       "    }\n",
       "\n",
       "    .dataframe tbody tr th {\n",
       "        vertical-align: top;\n",
       "    }\n",
       "</style>\n",
       "<table border=\"1\" class=\"dataframe\">\n",
       "  <thead>\n",
       "    <tr style=\"text-align: right;\">\n",
       "      <th></th>\n",
       "      <th>is_reverse</th>\n",
       "      <th>percent_of_ions_matched</th>\n",
       "      <th>Total Ions</th>\n",
       "      <th>Obs m/z</th>\n",
       "      <th>z</th>\n",
       "      <th>PPM</th>\n",
       "      <th>XCorr</th>\n",
       "      <th>delta_xcorr</th>\n",
       "      <th>relative_elution_time</th>\n",
       "      <th>pep_len</th>\n",
       "      <th>has_oxidized_met</th>\n",
       "      <th>num_missed_cleavages</th>\n",
       "      <th>Sp</th>\n",
       "      <th>unique_delta_expect</th>\n",
       "      <th>Expect</th>\n",
       "      <th>Expect.1</th>\n",
       "      <th>target</th>\n",
       "    </tr>\n",
       "  </thead>\n",
       "  <tbody>\n",
       "    <tr>\n",
       "      <th>count</th>\n",
       "      <td>53670.000000</td>\n",
       "      <td>53670.000000</td>\n",
       "      <td>53670.000000</td>\n",
       "      <td>53670.000000</td>\n",
       "      <td>53670.0</td>\n",
       "      <td>53670.000000</td>\n",
       "      <td>53670.000000</td>\n",
       "      <td>53670.000000</td>\n",
       "      <td>53670.000000</td>\n",
       "      <td>53670.000000</td>\n",
       "      <td>53670.000000</td>\n",
       "      <td>53670.000000</td>\n",
       "      <td>53670.000000</td>\n",
       "      <td>53670.000000</td>\n",
       "      <td>53670.00000</td>\n",
       "      <td>5.367000e+04</td>\n",
       "      <td>53670.000000</td>\n",
       "    </tr>\n",
       "    <tr>\n",
       "      <th>mean</th>\n",
       "      <td>0.226607</td>\n",
       "      <td>0.492078</td>\n",
       "      <td>22.896404</td>\n",
       "      <td>904.560113</td>\n",
       "      <td>2.0</td>\n",
       "      <td>-15.068734</td>\n",
       "      <td>1.828223</td>\n",
       "      <td>0.285883</td>\n",
       "      <td>0.545304</td>\n",
       "      <td>12.448202</td>\n",
       "      <td>0.167095</td>\n",
       "      <td>0.272424</td>\n",
       "      <td>288.244390</td>\n",
       "      <td>0.284890</td>\n",
       "      <td>7.43516</td>\n",
       "      <td>6.596437e+00</td>\n",
       "      <td>0.226607</td>\n",
       "    </tr>\n",
       "    <tr>\n",
       "      <th>std</th>\n",
       "      <td>0.418640</td>\n",
       "      <td>0.300522</td>\n",
       "      <td>8.328941</td>\n",
       "      <td>226.095407</td>\n",
       "      <td>0.0</td>\n",
       "      <td>859.469207</td>\n",
       "      <td>1.071327</td>\n",
       "      <td>0.245463</td>\n",
       "      <td>0.277454</td>\n",
       "      <td>4.164470</td>\n",
       "      <td>0.373064</td>\n",
       "      <td>0.494579</td>\n",
       "      <td>347.900621</td>\n",
       "      <td>0.246105</td>\n",
       "      <td>3.93778</td>\n",
       "      <td>4.495679e+01</td>\n",
       "      <td>0.418640</td>\n",
       "    </tr>\n",
       "    <tr>\n",
       "      <th>min</th>\n",
       "      <td>0.000000</td>\n",
       "      <td>0.000000</td>\n",
       "      <td>10.000000</td>\n",
       "      <td>500.271550</td>\n",
       "      <td>2.0</td>\n",
       "      <td>-2491.740000</td>\n",
       "      <td>0.000000</td>\n",
       "      <td>0.000000</td>\n",
       "      <td>0.000222</td>\n",
       "      <td>6.000000</td>\n",
       "      <td>0.000000</td>\n",
       "      <td>0.000000</td>\n",
       "      <td>0.000000</td>\n",
       "      <td>0.000000</td>\n",
       "      <td>2.00000</td>\n",
       "      <td>2.500000e-26</td>\n",
       "      <td>0.000000</td>\n",
       "    </tr>\n",
       "    <tr>\n",
       "      <th>25%</th>\n",
       "      <td>0.000000</td>\n",
       "      <td>0.222222</td>\n",
       "      <td>16.000000</td>\n",
       "      <td>716.934168</td>\n",
       "      <td>2.0</td>\n",
       "      <td>-29.545000</td>\n",
       "      <td>1.000000</td>\n",
       "      <td>0.054000</td>\n",
       "      <td>0.309479</td>\n",
       "      <td>9.000000</td>\n",
       "      <td>0.000000</td>\n",
       "      <td>0.000000</td>\n",
       "      <td>36.300000</td>\n",
       "      <td>0.055000</td>\n",
       "      <td>4.29200</td>\n",
       "      <td>1.100000e-05</td>\n",
       "      <td>0.000000</td>\n",
       "    </tr>\n",
       "    <tr>\n",
       "      <th>50%</th>\n",
       "      <td>0.000000</td>\n",
       "      <td>0.437500</td>\n",
       "      <td>22.000000</td>\n",
       "      <td>879.513120</td>\n",
       "      <td>2.0</td>\n",
       "      <td>-1.255000</td>\n",
       "      <td>1.496000</td>\n",
       "      <td>0.213000</td>\n",
       "      <td>0.561285</td>\n",
       "      <td>12.000000</td>\n",
       "      <td>0.000000</td>\n",
       "      <td>0.000000</td>\n",
       "      <td>128.900000</td>\n",
       "      <td>0.207000</td>\n",
       "      <td>5.70600</td>\n",
       "      <td>2.000000e-01</td>\n",
       "      <td>0.000000</td>\n",
       "    </tr>\n",
       "    <tr>\n",
       "      <th>75%</th>\n",
       "      <td>0.000000</td>\n",
       "      <td>0.777778</td>\n",
       "      <td>28.000000</td>\n",
       "      <td>1080.118422</td>\n",
       "      <td>2.0</td>\n",
       "      <td>3.267500</td>\n",
       "      <td>2.592000</td>\n",
       "      <td>0.516000</td>\n",
       "      <td>0.786949</td>\n",
       "      <td>15.000000</td>\n",
       "      <td>0.000000</td>\n",
       "      <td>0.000000</td>\n",
       "      <td>443.800000</td>\n",
       "      <td>0.515000</td>\n",
       "      <td>9.95500</td>\n",
       "      <td>5.100000e+00</td>\n",
       "      <td>0.000000</td>\n",
       "    </tr>\n",
       "    <tr>\n",
       "      <th>max</th>\n",
       "      <td>1.000000</td>\n",
       "      <td>1.000000</td>\n",
       "      <td>60.000000</td>\n",
       "      <td>1399.707280</td>\n",
       "      <td>2.0</td>\n",
       "      <td>2503.810000</td>\n",
       "      <td>6.447000</td>\n",
       "      <td>1.000000</td>\n",
       "      <td>0.999889</td>\n",
       "      <td>31.000000</td>\n",
       "      <td>1.000000</td>\n",
       "      <td>2.000000</td>\n",
       "      <td>3976.900000</td>\n",
       "      <td>0.862000</td>\n",
       "      <td>30.59500</td>\n",
       "      <td>1.000000e+03</td>\n",
       "      <td>1.000000</td>\n",
       "    </tr>\n",
       "  </tbody>\n",
       "</table>\n",
       "</div>"
      ],
      "text/plain": [
       "         is_reverse  percent_of_ions_matched    Total Ions       Obs m/z  \\\n",
       "count  53670.000000             53670.000000  53670.000000  53670.000000   \n",
       "mean       0.226607                 0.492078     22.896404    904.560113   \n",
       "std        0.418640                 0.300522      8.328941    226.095407   \n",
       "min        0.000000                 0.000000     10.000000    500.271550   \n",
       "25%        0.000000                 0.222222     16.000000    716.934168   \n",
       "50%        0.000000                 0.437500     22.000000    879.513120   \n",
       "75%        0.000000                 0.777778     28.000000   1080.118422   \n",
       "max        1.000000                 1.000000     60.000000   1399.707280   \n",
       "\n",
       "             z           PPM         XCorr   delta_xcorr  \\\n",
       "count  53670.0  53670.000000  53670.000000  53670.000000   \n",
       "mean       2.0    -15.068734      1.828223      0.285883   \n",
       "std        0.0    859.469207      1.071327      0.245463   \n",
       "min        2.0  -2491.740000      0.000000      0.000000   \n",
       "25%        2.0    -29.545000      1.000000      0.054000   \n",
       "50%        2.0     -1.255000      1.496000      0.213000   \n",
       "75%        2.0      3.267500      2.592000      0.516000   \n",
       "max        2.0   2503.810000      6.447000      1.000000   \n",
       "\n",
       "       relative_elution_time       pep_len  has_oxidized_met  \\\n",
       "count           53670.000000  53670.000000      53670.000000   \n",
       "mean                0.545304     12.448202          0.167095   \n",
       "std                 0.277454      4.164470          0.373064   \n",
       "min                 0.000222      6.000000          0.000000   \n",
       "25%                 0.309479      9.000000          0.000000   \n",
       "50%                 0.561285     12.000000          0.000000   \n",
       "75%                 0.786949     15.000000          0.000000   \n",
       "max                 0.999889     31.000000          1.000000   \n",
       "\n",
       "       num_missed_cleavages            Sp  unique_delta_expect       Expect  \\\n",
       "count          53670.000000  53670.000000         53670.000000  53670.00000   \n",
       "mean               0.272424    288.244390             0.284890      7.43516   \n",
       "std                0.494579    347.900621             0.246105      3.93778   \n",
       "min                0.000000      0.000000             0.000000      2.00000   \n",
       "25%                0.000000     36.300000             0.055000      4.29200   \n",
       "50%                0.000000    128.900000             0.207000      5.70600   \n",
       "75%                0.000000    443.800000             0.515000      9.95500   \n",
       "max                2.000000   3976.900000             0.862000     30.59500   \n",
       "\n",
       "           Expect.1        target  \n",
       "count  5.367000e+04  53670.000000  \n",
       "mean   6.596437e+00      0.226607  \n",
       "std    4.495679e+01      0.418640  \n",
       "min    2.500000e-26      0.000000  \n",
       "25%    1.100000e-05      0.000000  \n",
       "50%    2.000000e-01      0.000000  \n",
       "75%    5.100000e+00      0.000000  \n",
       "max    1.000000e+03      1.000000  "
      ]
     },
     "execution_count": 7,
     "metadata": {},
     "output_type": "execute_result"
    }
   ],
   "source": [
    "df.describe()"
   ]
  },
  {
   "cell_type": "code",
   "execution_count": 8,
   "metadata": {},
   "outputs": [
    {
     "data": {
      "text/plain": [
       "(array([ 0,  1,  2,  3,  4,  5,  6,  7,  8,  9, 10, 11, 12, 13, 14]),\n",
       " <a list of 15 Text xticklabel objects>)"
      ]
     },
     "execution_count": 8,
     "metadata": {},
     "output_type": "execute_result"
    },
    {
     "data": {
      "image/png": "[encoded data removed]",
      "text/plain": [
       "<matplotlib.figure.Figure at 0x1a25c9dd30>"
      ]
     },
     "metadata": {},
     "output_type": "display_data"
    }
   ],
   "source": [
    "# make df of just features and target\n",
    "data = df[features]\n",
    "\n",
    "# standardize data by subtracting mean and dividing by standard deviation\n",
    "\n",
    "standardized_data = (data - data.mean()) / data.std()\n",
    "\n",
    "data = pd.concat([standardized_data, df['target']], axis=1)\n",
    "\n",
    "# 'melt' dataframe into one target column and one features column -- for boxplotting etc.\n",
    "data = pd.melt(data,\n",
    "               id_vars=\"target\",\n",
    "               var_name=\"features\",\n",
    "               value_name='value')\n",
    "#\n",
    "\n",
    "plt.figure(figsize=(10,10))\n",
    "sns.violinplot(x=\"features\", y=\"value\", hue=\"target\", data=data)\n",
    "#sns.boxplot(x=\"features\", y=\"value\", hue=\"target\", data=data)\n",
    "plt.xticks(rotation=90)"
   ]
  },
  {
   "cell_type": "code",
   "execution_count": 9,
   "metadata": {},
   "outputs": [
    {
     "data": {
      "image/png": "[encoded data removed]",
      "text/plain": [
       "<matplotlib.figure.Figure at 0x1a25582278>"
      ]
     },
     "metadata": {},
     "output_type": "display_data"
    }
   ],
   "source": [
    "# plot individual variables by target\n",
    "\n",
    "ax = sns.boxplot(x=\"target\", # category\n",
    "                 y=\"XCorr\", # variable to plot\n",
    "                 data=df) # dataframe"
   ]
  },
  {
   "cell_type": "code",
   "execution_count": 10,
   "metadata": {
    "collapsed": true
   },
   "outputs": [],
   "source": [
    "X = df[features]\n",
    "y = df['target']"
   ]
  },
  {
   "cell_type": "code",
   "execution_count": 11,
   "metadata": {
    "collapsed": true
   },
   "outputs": [],
   "source": [
    "X_train, X_test, y_train, y_test = train_test_split(\n",
    "    X, y, test_size=0.25, random_state=42)"
   ]
  },
  {
   "cell_type": "code",
   "execution_count": 12,
   "metadata": {},
   "outputs": [
    {
     "data": {
      "text/plain": [
       "0.77150096884781638"
      ]
     },
     "execution_count": 12,
     "metadata": {},
     "output_type": "execute_result"
    }
   ],
   "source": [
    "svm = svm.SVC()\n",
    "svm.fit(X_train, y_train)\n",
    "svm.score(X_test, y_test)"
   ]
  },
  {
   "cell_type": "code",
   "execution_count": 32,
   "metadata": {},
   "outputs": [
    {
     "data": {
      "text/plain": [
       "0.76665672976598598"
      ]
     },
     "execution_count": 32,
     "metadata": {},
     "output_type": "execute_result"
    }
   ],
   "source": [
    "rfc = RandomForestClassifier()\n",
    "rfc.fit(X_train, y_train)\n",
    "rfc.score(X_test, y_test)"
   ]
  },
  {
   "cell_type": "code",
   "execution_count": 122,
   "metadata": {},
   "outputs": [
    {
     "data": {
      "text/plain": [
       "<matplotlib.axes._subplots.AxesSubplot at 0x110da9dd8>"
      ]
     },
     "execution_count": 122,
     "metadata": {},
     "output_type": "execute_result"
    },
    {
     "data": {
      "image/png": "[encoded data removed]",
      "text/plain": [
       "<matplotlib.figure.Figure at 0x1a191eeda0>"
      ]
     },
     "metadata": {},
     "output_type": "display_data"
    }
   ],
   "source": [
    "# make series of feature importance and plot\n",
    "\n",
    "features = pd.Series(rfc.feature_importances_, # weights are the values in the series\n",
    "                     index=df.columns[5:-1]) # feature names are the index, show up as labels on the plot\n",
    "\n",
    "features = features.sort_values()\n",
    "\n",
    "features.plot(kind='bar')"
   ]
  },
  {
   "cell_type": "code",
   "execution_count": 1,
   "metadata": {},
   "outputs": [
    {
     "ename": "NameError",
     "evalue": "name 'df' is not defined",
     "output_type": "error",
     "traceback": [
      "\u001b[0;31m---------------------------------------------------------------------------\u001b[0m",
      "\u001b[0;31mNameError\u001b[0m                                 Traceback (most recent call last)",
      "\u001b[0;32m<ipython-input-1-07b2ca007a0a>\u001b[0m in \u001b[0;36m<module>\u001b[0;34m()\u001b[0m\n\u001b[0;32m----> 1\u001b[0;31m \u001b[0mdf\u001b[0m\u001b[0;34m.\u001b[0m\u001b[0mplot\u001b[0m\u001b[0;34m.\u001b[0m\u001b[0mscatter\u001b[0m\u001b[0;34m(\u001b[0m\u001b[0mx\u001b[0m\u001b[0;34m=\u001b[0m\u001b[0;34m'Total Ions'\u001b[0m\u001b[0;34m,\u001b[0m \u001b[0my\u001b[0m \u001b[0;34m=\u001b[0m \u001b[0;34m'Obs m/z'\u001b[0m\u001b[0;34m)\u001b[0m\u001b[0;34m\u001b[0m\u001b[0m\n\u001b[0m\u001b[1;32m      2\u001b[0m \u001b[0mdf\u001b[0m\u001b[0;34m.\u001b[0m\u001b[0mplot\u001b[0m\u001b[0;34m.\u001b[0m\u001b[0mscatter\u001b[0m\u001b[0;34m(\u001b[0m\u001b[0mx\u001b[0m\u001b[0;34m=\u001b[0m\u001b[0;34m'Total Ions'\u001b[0m\u001b[0;34m,\u001b[0m \u001b[0my\u001b[0m \u001b[0;34m=\u001b[0m \u001b[0;34m'z'\u001b[0m\u001b[0;34m)\u001b[0m\u001b[0;34m\u001b[0m\u001b[0m\n\u001b[1;32m      3\u001b[0m \u001b[0mdf\u001b[0m\u001b[0;34m.\u001b[0m\u001b[0mplot\u001b[0m\u001b[0;34m.\u001b[0m\u001b[0mscatter\u001b[0m\u001b[0;34m(\u001b[0m\u001b[0mx\u001b[0m\u001b[0;34m=\u001b[0m\u001b[0;34m'Total Ions'\u001b[0m\u001b[0;34m,\u001b[0m \u001b[0my\u001b[0m \u001b[0;34m=\u001b[0m \u001b[0;34m'PPM'\u001b[0m\u001b[0;34m)\u001b[0m\u001b[0;34m\u001b[0m\u001b[0m\n\u001b[1;32m      4\u001b[0m \u001b[0mdf\u001b[0m\u001b[0;34m.\u001b[0m\u001b[0mplot\u001b[0m\u001b[0;34m.\u001b[0m\u001b[0mscatter\u001b[0m\u001b[0;34m(\u001b[0m\u001b[0mx\u001b[0m\u001b[0;34m=\u001b[0m\u001b[0;34m'Total Ions'\u001b[0m\u001b[0;34m,\u001b[0m \u001b[0my\u001b[0m \u001b[0;34m=\u001b[0m \u001b[0;34m'pep_len'\u001b[0m\u001b[0;34m)\u001b[0m\u001b[0;34m\u001b[0m\u001b[0m\n",
      "\u001b[0;31mNameError\u001b[0m: name 'df' is not defined"
     ]
    }
   ],
   "source": [
    "df.plot.scatter(x='Total Ions', y = 'Obs m/z')\n",
    "df.plot.scatter(x='Total Ions', y = 'z')\n",
    "df.plot.scatter(x='Total Ions', y = 'PPM')\n",
    "df.plot.scatter(x='Total Ions', y = 'pep_len')"
   ]
  },
  {
   "cell_type": "code",
   "execution_count": 123,
   "metadata": {},
   "outputs": [
    {
     "data": {
      "image/png": "[encoded data removed]",
      "text/plain": [
       "<matplotlib.figure.Figure at 0x111fb1a20>"
      ]
     },
     "metadata": {},
     "output_type": "display_data"
    }
   ],
   "source": [
    "# plot different variables\n",
    "\n",
    "show_x = 'Sp'\n",
    "show_y = 'Expect'\n",
    "\n",
    "ax = df[df['target'] == 0].plot.scatter(x = show_x,\n",
    "                                             y = show_y,\n",
    "                                             color = '#7fc97f',\n",
    "                                             label = 0)"
   ]
  },
  {
   "cell_type": "code",
   "execution_count": 124,
   "metadata": {},
   "outputs": [
    {
     "data": {
      "image/png": "[encoded data removed]",
      "text/plain": [
       "<matplotlib.figure.Figure at 0x1114ec898>"
      ]
     },
     "metadata": {},
     "output_type": "display_data"
    }
   ],
   "source": [
    "ax = df[df['target'] == 1].plot.scatter(x = show_x,\n",
    "                                             y = show_y,\n",
    "                                             color = '#beaed4',\n",
    "                                             label = 0)"
   ]
  },
  {
   "cell_type": "code",
   "execution_count": 125,
   "metadata": {
    "collapsed": true
   },
   "outputs": [],
   "source": [
    "sp = pd.Series(df['Sp'].values, index=df['target'])"
   ]
  },
  {
   "cell_type": "code",
   "execution_count": 127,
   "metadata": {},
   "outputs": [
    {
     "data": {
      "text/plain": [
       "<matplotlib.axes._subplots.AxesSubplot at 0x1101cc9e8>"
      ]
     },
     "execution_count": 127,
     "metadata": {},
     "output_type": "execute_result"
    },
    {
     "data": {
      "image/png": "[encoded data removed]",
      "text/plain": [
       "<matplotlib.figure.Figure at 0x1a1a75ab00>"
      ]
     },
     "metadata": {},
     "output_type": "display_data"
    }
   ],
   "source": [
    "sp.iloc[:50].plot(kind='bar')"
   ]
  },
  {
   "cell_type": "code",
   "execution_count": 128,
   "metadata": {},
   "outputs": [
    {
     "data": {
      "text/plain": [
       "array([   45.2,   223.7,    26.2, ...,  1584.2,   809. ,   607.5])"
      ]
     },
     "execution_count": 128,
     "metadata": {},
     "output_type": "execute_result"
    }
   ],
   "source": [
    "df['Sp'].unique()"
   ]
  },
  {
   "cell_type": "code",
   "execution_count": 129,
   "metadata": {},
   "outputs": [
    {
     "data": {
      "text/plain": [
       "Sp\n",
       "0.0       154\n",
       "0.2         3\n",
       "0.3         4\n",
       "0.4        13\n",
       "0.5        15\n",
       "0.6        37\n",
       "0.7        42\n",
       "0.8        49\n",
       "0.9        59\n",
       "1.0        61\n",
       "1.1        79\n",
       "1.2        76\n",
       "1.3        90\n",
       "1.4       103\n",
       "1.5       113\n",
       "1.6       109\n",
       "1.7        86\n",
       "1.8        90\n",
       "1.9        93\n",
       "2.0        86\n",
       "2.1        87\n",
       "2.2        65\n",
       "2.3        88\n",
       "2.4        82\n",
       "2.5        71\n",
       "2.6        77\n",
       "2.7        67\n",
       "2.8        63\n",
       "2.9        73\n",
       "3.0        57\n",
       "         ... \n",
       "2303.3      1\n",
       "2303.7      1\n",
       "2312.1      1\n",
       "2313.2      1\n",
       "2326.3      1\n",
       "2338.9      1\n",
       "2350.3      1\n",
       "2366.0      1\n",
       "2396.0      1\n",
       "2413.9      1\n",
       "2419.8      1\n",
       "2437.8      1\n",
       "2456.0      1\n",
       "2466.2      1\n",
       "2469.9      1\n",
       "2480.1      1\n",
       "2494.0      1\n",
       "2512.7      1\n",
       "2532.7      1\n",
       "2572.9      1\n",
       "2605.9      1\n",
       "2625.6      1\n",
       "2627.0      1\n",
       "2683.7      1\n",
       "2748.7      1\n",
       "2785.8      1\n",
       "2889.4      1\n",
       "2918.3      1\n",
       "3037.4      1\n",
       "3296.8      1\n",
       "Name: target, Length: 11122, dtype: int64"
      ]
     },
     "execution_count": 129,
     "metadata": {},
     "output_type": "execute_result"
    }
   ],
   "source": [
    "df.groupby(['Sp'])['target'].count()"
   ]
  },
  {
   "cell_type": "code",
   "execution_count": 130,
   "metadata": {},
   "outputs": [
    {
     "data": {
      "text/plain": [
       "target\n",
       "0    2.082015\n",
       "1    0.951492\n",
       "Name: XCorr, dtype: float64"
      ]
     },
     "execution_count": 130,
     "metadata": {},
     "output_type": "execute_result"
    }
   ],
   "source": [
    "df.groupby(['target'])['XCorr'].mean()"
   ]
  },
  {
   "cell_type": "code",
   "execution_count": 131,
   "metadata": {},
   "outputs": [
    {
     "data": {
      "text/html": [
       "<div>\n",
       "<style>\n",
       "    .dataframe thead tr:only-child th {\n",
       "        text-align: right;\n",
       "    }\n",
       "\n",
       "    .dataframe thead th {\n",
       "        text-align: left;\n",
       "    }\n",
       "\n",
       "    .dataframe tbody tr th {\n",
       "        vertical-align: top;\n",
       "    }\n",
       "</style>\n",
       "<table border=\"1\" class=\"dataframe\">\n",
       "  <thead>\n",
       "    <tr style=\"text-align: right;\">\n",
       "      <th></th>\n",
       "      <th>is_reverse</th>\n",
       "      <th>percent_of_ions_matched</th>\n",
       "      <th>Total Ions</th>\n",
       "      <th>Obs m/z</th>\n",
       "      <th>z</th>\n",
       "      <th>PPM</th>\n",
       "      <th>XCorr</th>\n",
       "      <th>delta_xcorr</th>\n",
       "      <th>relative_elution_time</th>\n",
       "      <th>pep_len</th>\n",
       "      <th>has_oxidized_met</th>\n",
       "      <th>num_missed_cleavages</th>\n",
       "      <th>Sp</th>\n",
       "      <th>unique_delta_expect</th>\n",
       "      <th>Expect</th>\n",
       "      <th>Expect.1</th>\n",
       "      <th>target</th>\n",
       "    </tr>\n",
       "  </thead>\n",
       "  <tbody>\n",
       "    <tr>\n",
       "      <th>count</th>\n",
       "      <td>41461.0</td>\n",
       "      <td>41461.000000</td>\n",
       "      <td>41461.000000</td>\n",
       "      <td>41461.000000</td>\n",
       "      <td>41461.0</td>\n",
       "      <td>41461.000000</td>\n",
       "      <td>41461.000000</td>\n",
       "      <td>41461.000000</td>\n",
       "      <td>41461.000000</td>\n",
       "      <td>41461.000000</td>\n",
       "      <td>41461.000000</td>\n",
       "      <td>41461.000000</td>\n",
       "      <td>41461.000000</td>\n",
       "      <td>41461.000000</td>\n",
       "      <td>41461.000000</td>\n",
       "      <td>4.146100e+04</td>\n",
       "      <td>41461.0</td>\n",
       "    </tr>\n",
       "    <tr>\n",
       "      <th>mean</th>\n",
       "      <td>0.0</td>\n",
       "      <td>0.565936</td>\n",
       "      <td>22.928005</td>\n",
       "      <td>900.905055</td>\n",
       "      <td>2.0</td>\n",
       "      <td>9.713973</td>\n",
       "      <td>2.082015</td>\n",
       "      <td>0.346484</td>\n",
       "      <td>0.553396</td>\n",
       "      <td>12.464002</td>\n",
       "      <td>0.167193</td>\n",
       "      <td>0.198066</td>\n",
       "      <td>358.058834</td>\n",
       "      <td>0.345167</td>\n",
       "      <td>8.314956</td>\n",
       "      <td>4.770574e+00</td>\n",
       "      <td>0.0</td>\n",
       "    </tr>\n",
       "    <tr>\n",
       "      <th>std</th>\n",
       "      <td>0.0</td>\n",
       "      <td>0.293197</td>\n",
       "      <td>8.392135</td>\n",
       "      <td>224.221725</td>\n",
       "      <td>0.0</td>\n",
       "      <td>723.042505</td>\n",
       "      <td>1.073972</td>\n",
       "      <td>0.243183</td>\n",
       "      <td>0.266568</td>\n",
       "      <td>4.196068</td>\n",
       "      <td>0.373153</td>\n",
       "      <td>0.431666</td>\n",
       "      <td>364.098426</td>\n",
       "      <td>0.244614</td>\n",
       "      <td>4.027655</td>\n",
       "      <td>4.015750e+01</td>\n",
       "      <td>0.0</td>\n",
       "    </tr>\n",
       "    <tr>\n",
       "      <th>min</th>\n",
       "      <td>0.0</td>\n",
       "      <td>0.000000</td>\n",
       "      <td>10.000000</td>\n",
       "      <td>500.250500</td>\n",
       "      <td>2.0</td>\n",
       "      <td>-2491.290000</td>\n",
       "      <td>0.000000</td>\n",
       "      <td>0.000000</td>\n",
       "      <td>0.000333</td>\n",
       "      <td>6.000000</td>\n",
       "      <td>0.000000</td>\n",
       "      <td>0.000000</td>\n",
       "      <td>0.000000</td>\n",
       "      <td>0.000000</td>\n",
       "      <td>2.000000</td>\n",
       "      <td>9.600000e-26</td>\n",
       "      <td>0.0</td>\n",
       "    </tr>\n",
       "    <tr>\n",
       "      <th>25%</th>\n",
       "      <td>0.0</td>\n",
       "      <td>0.300000</td>\n",
       "      <td>16.000000</td>\n",
       "      <td>716.469080</td>\n",
       "      <td>2.0</td>\n",
       "      <td>-2.340000</td>\n",
       "      <td>1.155000</td>\n",
       "      <td>0.098000</td>\n",
       "      <td>0.331704</td>\n",
       "      <td>9.000000</td>\n",
       "      <td>0.000000</td>\n",
       "      <td>0.000000</td>\n",
       "      <td>59.300000</td>\n",
       "      <td>0.097000</td>\n",
       "      <td>4.652000</td>\n",
       "      <td>9.600000e-07</td>\n",
       "      <td>0.0</td>\n",
       "    </tr>\n",
       "    <tr>\n",
       "      <th>50%</th>\n",
       "      <td>0.0</td>\n",
       "      <td>0.590909</td>\n",
       "      <td>22.000000</td>\n",
       "      <td>874.501930</td>\n",
       "      <td>2.0</td>\n",
       "      <td>-1.210000</td>\n",
       "      <td>1.977000</td>\n",
       "      <td>0.362000</td>\n",
       "      <td>0.566396</td>\n",
       "      <td>12.000000</td>\n",
       "      <td>0.000000</td>\n",
       "      <td>0.000000</td>\n",
       "      <td>257.800000</td>\n",
       "      <td>0.354000</td>\n",
       "      <td>7.533000</td>\n",
       "      <td>2.900000e-03</td>\n",
       "      <td>0.0</td>\n",
       "    </tr>\n",
       "    <tr>\n",
       "      <th>75%</th>\n",
       "      <td>0.0</td>\n",
       "      <td>0.833333</td>\n",
       "      <td>28.000000</td>\n",
       "      <td>1073.998790</td>\n",
       "      <td>2.0</td>\n",
       "      <td>0.000000</td>\n",
       "      <td>2.860000</td>\n",
       "      <td>0.565000</td>\n",
       "      <td>0.781420</td>\n",
       "      <td>15.000000</td>\n",
       "      <td>0.000000</td>\n",
       "      <td>0.000000</td>\n",
       "      <td>539.700000</td>\n",
       "      <td>0.566000</td>\n",
       "      <td>11.018000</td>\n",
       "      <td>2.200000e+00</td>\n",
       "      <td>0.0</td>\n",
       "    </tr>\n",
       "    <tr>\n",
       "      <th>max</th>\n",
       "      <td>0.0</td>\n",
       "      <td>1.000000</td>\n",
       "      <td>60.000000</td>\n",
       "      <td>1399.718020</td>\n",
       "      <td>2.0</td>\n",
       "      <td>2505.050000</td>\n",
       "      <td>6.301000</td>\n",
       "      <td>1.000000</td>\n",
       "      <td>0.999889</td>\n",
       "      <td>31.000000</td>\n",
       "      <td>1.000000</td>\n",
       "      <td>2.000000</td>\n",
       "      <td>3296.800000</td>\n",
       "      <td>0.854000</td>\n",
       "      <td>30.019000</td>\n",
       "      <td>1.000000e+03</td>\n",
       "      <td>0.0</td>\n",
       "    </tr>\n",
       "  </tbody>\n",
       "</table>\n",
       "</div>"
      ],
      "text/plain": [
       "       is_reverse  percent_of_ions_matched    Total Ions       Obs m/z  \\\n",
       "count     41461.0             41461.000000  41461.000000  41461.000000   \n",
       "mean          0.0                 0.565936     22.928005    900.905055   \n",
       "std           0.0                 0.293197      8.392135    224.221725   \n",
       "min           0.0                 0.000000     10.000000    500.250500   \n",
       "25%           0.0                 0.300000     16.000000    716.469080   \n",
       "50%           0.0                 0.590909     22.000000    874.501930   \n",
       "75%           0.0                 0.833333     28.000000   1073.998790   \n",
       "max           0.0                 1.000000     60.000000   1399.718020   \n",
       "\n",
       "             z           PPM         XCorr   delta_xcorr  \\\n",
       "count  41461.0  41461.000000  41461.000000  41461.000000   \n",
       "mean       2.0      9.713973      2.082015      0.346484   \n",
       "std        0.0    723.042505      1.073972      0.243183   \n",
       "min        2.0  -2491.290000      0.000000      0.000000   \n",
       "25%        2.0     -2.340000      1.155000      0.098000   \n",
       "50%        2.0     -1.210000      1.977000      0.362000   \n",
       "75%        2.0      0.000000      2.860000      0.565000   \n",
       "max        2.0   2505.050000      6.301000      1.000000   \n",
       "\n",
       "       relative_elution_time       pep_len  has_oxidized_met  \\\n",
       "count           41461.000000  41461.000000      41461.000000   \n",
       "mean                0.553396     12.464002          0.167193   \n",
       "std                 0.266568      4.196068          0.373153   \n",
       "min                 0.000333      6.000000          0.000000   \n",
       "25%                 0.331704      9.000000          0.000000   \n",
       "50%                 0.566396     12.000000          0.000000   \n",
       "75%                 0.781420     15.000000          0.000000   \n",
       "max                 0.999889     31.000000          1.000000   \n",
       "\n",
       "       num_missed_cleavages            Sp  unique_delta_expect        Expect  \\\n",
       "count          41461.000000  41461.000000         41461.000000  41461.000000   \n",
       "mean               0.198066    358.058834             0.345167      8.314956   \n",
       "std                0.431666    364.098426             0.244614      4.027655   \n",
       "min                0.000000      0.000000             0.000000      2.000000   \n",
       "25%                0.000000     59.300000             0.097000      4.652000   \n",
       "50%                0.000000    257.800000             0.354000      7.533000   \n",
       "75%                0.000000    539.700000             0.566000     11.018000   \n",
       "max                2.000000   3296.800000             0.854000     30.019000   \n",
       "\n",
       "           Expect.1   target  \n",
       "count  4.146100e+04  41461.0  \n",
       "mean   4.770574e+00      0.0  \n",
       "std    4.015750e+01      0.0  \n",
       "min    9.600000e-26      0.0  \n",
       "25%    9.600000e-07      0.0  \n",
       "50%    2.900000e-03      0.0  \n",
       "75%    2.200000e+00      0.0  \n",
       "max    1.000000e+03      0.0  "
      ]
     },
     "execution_count": 131,
     "metadata": {},
     "output_type": "execute_result"
    }
   ],
   "source": [
    "df[df['target'] == 0].describe()"
   ]
  },
  {
   "cell_type": "code",
   "execution_count": 132,
   "metadata": {},
   "outputs": [
    {
     "data": {
      "text/html": [
       "<div>\n",
       "<style>\n",
       "    .dataframe thead tr:only-child th {\n",
       "        text-align: right;\n",
       "    }\n",
       "\n",
       "    .dataframe thead th {\n",
       "        text-align: left;\n",
       "    }\n",
       "\n",
       "    .dataframe tbody tr th {\n",
       "        vertical-align: top;\n",
       "    }\n",
       "</style>\n",
       "<table border=\"1\" class=\"dataframe\">\n",
       "  <thead>\n",
       "    <tr style=\"text-align: right;\">\n",
       "      <th></th>\n",
       "      <th>is_reverse</th>\n",
       "      <th>percent_of_ions_matched</th>\n",
       "      <th>Total Ions</th>\n",
       "      <th>Obs m/z</th>\n",
       "      <th>z</th>\n",
       "      <th>PPM</th>\n",
       "      <th>XCorr</th>\n",
       "      <th>delta_xcorr</th>\n",
       "      <th>relative_elution_time</th>\n",
       "      <th>pep_len</th>\n",
       "      <th>has_oxidized_met</th>\n",
       "      <th>num_missed_cleavages</th>\n",
       "      <th>Sp</th>\n",
       "      <th>unique_delta_expect</th>\n",
       "      <th>Expect</th>\n",
       "      <th>Expect.1</th>\n",
       "      <th>target</th>\n",
       "    </tr>\n",
       "  </thead>\n",
       "  <tbody>\n",
       "    <tr>\n",
       "      <th>count</th>\n",
       "      <td>12209.0</td>\n",
       "      <td>12209.000000</td>\n",
       "      <td>12209.000000</td>\n",
       "      <td>12209.000000</td>\n",
       "      <td>12209.0</td>\n",
       "      <td>12209.000000</td>\n",
       "      <td>12209.000000</td>\n",
       "      <td>12209.000000</td>\n",
       "      <td>12209.000000</td>\n",
       "      <td>12209.000000</td>\n",
       "      <td>12209.000000</td>\n",
       "      <td>12209.000000</td>\n",
       "      <td>12209.000000</td>\n",
       "      <td>12209.000000</td>\n",
       "      <td>12209.000000</td>\n",
       "      <td>12209.000000</td>\n",
       "      <td>12209.0</td>\n",
       "    </tr>\n",
       "    <tr>\n",
       "      <th>mean</th>\n",
       "      <td>1.0</td>\n",
       "      <td>0.238061</td>\n",
       "      <td>22.679007</td>\n",
       "      <td>913.764678</td>\n",
       "      <td>2.0</td>\n",
       "      <td>-60.480808</td>\n",
       "      <td>0.951492</td>\n",
       "      <td>0.077341</td>\n",
       "      <td>0.517258</td>\n",
       "      <td>12.339504</td>\n",
       "      <td>0.179048</td>\n",
       "      <td>0.513556</td>\n",
       "      <td>44.307527</td>\n",
       "      <td>0.076858</td>\n",
       "      <td>4.339875</td>\n",
       "      <td>12.419246</td>\n",
       "      <td>1.0</td>\n",
       "    </tr>\n",
       "    <tr>\n",
       "      <th>std</th>\n",
       "      <td>0.0</td>\n",
       "      <td>0.144338</td>\n",
       "      <td>8.017219</td>\n",
       "      <td>229.723129</td>\n",
       "      <td>0.0</td>\n",
       "      <td>1202.575846</td>\n",
       "      <td>0.342632</td>\n",
       "      <td>0.083518</td>\n",
       "      <td>0.305368</td>\n",
       "      <td>4.008610</td>\n",
       "      <td>0.383408</td>\n",
       "      <td>0.584168</td>\n",
       "      <td>41.539811</td>\n",
       "      <td>0.076820</td>\n",
       "      <td>0.643554</td>\n",
       "      <td>49.522913</td>\n",
       "      <td>0.0</td>\n",
       "    </tr>\n",
       "    <tr>\n",
       "      <th>min</th>\n",
       "      <td>1.0</td>\n",
       "      <td>0.000000</td>\n",
       "      <td>10.000000</td>\n",
       "      <td>500.217230</td>\n",
       "      <td>2.0</td>\n",
       "      <td>-2491.930000</td>\n",
       "      <td>0.000000</td>\n",
       "      <td>0.000000</td>\n",
       "      <td>0.000111</td>\n",
       "      <td>6.000000</td>\n",
       "      <td>0.000000</td>\n",
       "      <td>0.000000</td>\n",
       "      <td>0.000000</td>\n",
       "      <td>0.000000</td>\n",
       "      <td>2.000000</td>\n",
       "      <td>0.000015</td>\n",
       "      <td>1.0</td>\n",
       "    </tr>\n",
       "    <tr>\n",
       "      <th>25%</th>\n",
       "      <td>1.0</td>\n",
       "      <td>0.138889</td>\n",
       "      <td>16.000000</td>\n",
       "      <td>720.943340</td>\n",
       "      <td>2.0</td>\n",
       "      <td>-812.570000</td>\n",
       "      <td>0.780000</td>\n",
       "      <td>0.017000</td>\n",
       "      <td>0.228359</td>\n",
       "      <td>9.000000</td>\n",
       "      <td>0.000000</td>\n",
       "      <td>0.000000</td>\n",
       "      <td>16.300000</td>\n",
       "      <td>0.017000</td>\n",
       "      <td>3.924000</td>\n",
       "      <td>2.100000</td>\n",
       "      <td>1.0</td>\n",
       "    </tr>\n",
       "    <tr>\n",
       "      <th>50%</th>\n",
       "      <td>1.0</td>\n",
       "      <td>0.214286</td>\n",
       "      <td>22.000000</td>\n",
       "      <td>894.478660</td>\n",
       "      <td>2.0</td>\n",
       "      <td>-5.100000</td>\n",
       "      <td>0.987000</td>\n",
       "      <td>0.052000</td>\n",
       "      <td>0.529503</td>\n",
       "      <td>12.000000</td>\n",
       "      <td>0.000000</td>\n",
       "      <td>0.000000</td>\n",
       "      <td>34.400000</td>\n",
       "      <td>0.053000</td>\n",
       "      <td>4.268000</td>\n",
       "      <td>5.400000</td>\n",
       "      <td>1.0</td>\n",
       "    </tr>\n",
       "    <tr>\n",
       "      <th>75%</th>\n",
       "      <td>1.0</td>\n",
       "      <td>0.312500</td>\n",
       "      <td>28.000000</td>\n",
       "      <td>1096.071870</td>\n",
       "      <td>2.0</td>\n",
       "      <td>684.490000</td>\n",
       "      <td>1.162000</td>\n",
       "      <td>0.111000</td>\n",
       "      <td>0.789866</td>\n",
       "      <td>15.000000</td>\n",
       "      <td>0.000000</td>\n",
       "      <td>1.000000</td>\n",
       "      <td>59.900000</td>\n",
       "      <td>0.114000</td>\n",
       "      <td>4.670000</td>\n",
       "      <td>12.000000</td>\n",
       "      <td>1.0</td>\n",
       "    </tr>\n",
       "    <tr>\n",
       "      <th>max</th>\n",
       "      <td>1.0</td>\n",
       "      <td>1.000000</td>\n",
       "      <td>62.000000</td>\n",
       "      <td>1399.759890</td>\n",
       "      <td>2.0</td>\n",
       "      <td>2504.360000</td>\n",
       "      <td>2.891000</td>\n",
       "      <td>1.000000</td>\n",
       "      <td>0.999778</td>\n",
       "      <td>32.000000</td>\n",
       "      <td>1.000000</td>\n",
       "      <td>2.000000</td>\n",
       "      <td>630.500000</td>\n",
       "      <td>0.600000</td>\n",
       "      <td>9.830000</td>\n",
       "      <td>1000.000000</td>\n",
       "      <td>1.0</td>\n",
       "    </tr>\n",
       "  </tbody>\n",
       "</table>\n",
       "</div>"
      ],
      "text/plain": [
       "       is_reverse  percent_of_ions_matched    Total Ions       Obs m/z  \\\n",
       "count     12209.0             12209.000000  12209.000000  12209.000000   \n",
       "mean          1.0                 0.238061     22.679007    913.764678   \n",
       "std           0.0                 0.144338      8.017219    229.723129   \n",
       "min           1.0                 0.000000     10.000000    500.217230   \n",
       "25%           1.0                 0.138889     16.000000    720.943340   \n",
       "50%           1.0                 0.214286     22.000000    894.478660   \n",
       "75%           1.0                 0.312500     28.000000   1096.071870   \n",
       "max           1.0                 1.000000     62.000000   1399.759890   \n",
       "\n",
       "             z           PPM         XCorr   delta_xcorr  \\\n",
       "count  12209.0  12209.000000  12209.000000  12209.000000   \n",
       "mean       2.0    -60.480808      0.951492      0.077341   \n",
       "std        0.0   1202.575846      0.342632      0.083518   \n",
       "min        2.0  -2491.930000      0.000000      0.000000   \n",
       "25%        2.0   -812.570000      0.780000      0.017000   \n",
       "50%        2.0     -5.100000      0.987000      0.052000   \n",
       "75%        2.0    684.490000      1.162000      0.111000   \n",
       "max        2.0   2504.360000      2.891000      1.000000   \n",
       "\n",
       "       relative_elution_time       pep_len  has_oxidized_met  \\\n",
       "count           12209.000000  12209.000000      12209.000000   \n",
       "mean                0.517258     12.339504          0.179048   \n",
       "std                 0.305368      4.008610          0.383408   \n",
       "min                 0.000111      6.000000          0.000000   \n",
       "25%                 0.228359      9.000000          0.000000   \n",
       "50%                 0.529503     12.000000          0.000000   \n",
       "75%                 0.789866     15.000000          0.000000   \n",
       "max                 0.999778     32.000000          1.000000   \n",
       "\n",
       "       num_missed_cleavages            Sp  unique_delta_expect        Expect  \\\n",
       "count          12209.000000  12209.000000         12209.000000  12209.000000   \n",
       "mean               0.513556     44.307527             0.076858      4.339875   \n",
       "std                0.584168     41.539811             0.076820      0.643554   \n",
       "min                0.000000      0.000000             0.000000      2.000000   \n",
       "25%                0.000000     16.300000             0.017000      3.924000   \n",
       "50%                0.000000     34.400000             0.053000      4.268000   \n",
       "75%                1.000000     59.900000             0.114000      4.670000   \n",
       "max                2.000000    630.500000             0.600000      9.830000   \n",
       "\n",
       "           Expect.1   target  \n",
       "count  12209.000000  12209.0  \n",
       "mean      12.419246      1.0  \n",
       "std       49.522913      0.0  \n",
       "min        0.000015      1.0  \n",
       "25%        2.100000      1.0  \n",
       "50%        5.400000      1.0  \n",
       "75%       12.000000      1.0  \n",
       "max     1000.000000      1.0  "
      ]
     },
     "execution_count": 132,
     "metadata": {},
     "output_type": "execute_result"
    }
   ],
   "source": [
    "df[df['target'] == 1].describe()"
   ]
  },
  {
   "cell_type": "code",
   "execution_count": 133,
   "metadata": {},
   "outputs": [
    {
     "data": {
      "text/plain": [
       "0    41461\n",
       "1    12209\n",
       "Name: target, dtype: int64"
      ]
     },
     "execution_count": 133,
     "metadata": {},
     "output_type": "execute_result"
    }
   ],
   "source": [
    "df['target'].value_counts()"
   ]
  },
  {
   "cell_type": "code",
   "execution_count": null,
   "metadata": {
    "collapsed": true
   },
   "outputs": [],
   "source": []
  }
 ],
 "metadata": {
  "kernelspec": {
   "display_name": "Python 3",
   "language": "python",
   "name": "python3"
  },
  "language_info": {
   "codemirror_mode": {
    "name": "ipython",
    "version": 3
   },
   "file_extension": ".py",
   "mimetype": "text/x-python",
   "name": "python",
   "nbconvert_exporter": "python",
   "pygments_lexer": "ipython3",
   "version": "3.6.3"
  }
 },
 "nbformat": 4,
 "nbformat_minor": 2
}
