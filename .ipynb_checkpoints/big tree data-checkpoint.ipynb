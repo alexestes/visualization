{
 "cells": [
  {
   "cell_type": "code",
   "execution_count": 51,
   "metadata": {
    "collapsed": true
   },
   "outputs": [],
   "source": [
    "import pandas as pd\n",
    "import numpy as np\n",
    "\n",
    "import seaborn as sns\n",
    "import matplotlib.pyplot as plt\n",
    "from sklearn.ensemble import RandomForestClassifier\n",
    "from sklearn.model_selection import train_test_split\n",
    "from sklearn import svm\n",
    "\n",
    "%matplotlib inline"
   ]
  },
  {
   "cell_type": "code",
   "execution_count": 18,
   "metadata": {
    "collapsed": true
   },
   "outputs": [],
   "source": [
    "df = pd.read_csv(\"sonnett.csv\").sample(frac=.1)"
   ]
  },
  {
   "cell_type": "code",
   "execution_count": 19,
   "metadata": {
    "collapsed": true
   },
   "outputs": [],
   "source": [
    "df['is_reverse'] = df['is_reverse'].apply(lambda x: int(x))"
   ]
  },
  {
   "cell_type": "code",
   "execution_count": 20,
   "metadata": {
    "collapsed": true
   },
   "outputs": [],
   "source": [
    "df['target'] = df['is_reverse']"
   ]
  },
  {
   "cell_type": "code",
   "execution_count": 37,
   "metadata": {
    "collapsed": true
   },
   "outputs": [],
   "source": [
    "features = df.columns[5:-1]"
   ]
  },
  {
   "cell_type": "code",
   "execution_count": 55,
   "metadata": {},
   "outputs": [
    {
     "data": {
      "text/html": [
       "<div>\n",
       "<style>\n",
       "    .dataframe thead tr:only-child th {\n",
       "        text-align: right;\n",
       "    }\n",
       "\n",
       "    .dataframe thead th {\n",
       "        text-align: left;\n",
       "    }\n",
       "\n",
       "    .dataframe tbody tr th {\n",
       "        vertical-align: top;\n",
       "    }\n",
       "</style>\n",
       "<table border=\"1\" class=\"dataframe\">\n",
       "  <thead>\n",
       "    <tr style=\"text-align: right;\">\n",
       "      <th></th>\n",
       "      <th>is_reverse</th>\n",
       "      <th>percent_of_ions_matched</th>\n",
       "      <th>Total Ions</th>\n",
       "      <th>Obs m/z</th>\n",
       "      <th>z</th>\n",
       "      <th>PPM</th>\n",
       "      <th>XCorr</th>\n",
       "      <th>delta_xcorr</th>\n",
       "      <th>relative_elution_time</th>\n",
       "      <th>pep_len</th>\n",
       "      <th>has_oxidized_met</th>\n",
       "      <th>num_missed_cleavages</th>\n",
       "      <th>Sp</th>\n",
       "      <th>unique_delta_expect</th>\n",
       "      <th>Expect</th>\n",
       "      <th>Expect.1</th>\n",
       "      <th>target</th>\n",
       "    </tr>\n",
       "  </thead>\n",
       "  <tbody>\n",
       "    <tr>\n",
       "      <th>count</th>\n",
       "      <td>53670.000000</td>\n",
       "      <td>53670.000000</td>\n",
       "      <td>53670.000000</td>\n",
       "      <td>53670.000000</td>\n",
       "      <td>53670.0</td>\n",
       "      <td>53670.000000</td>\n",
       "      <td>53670.000000</td>\n",
       "      <td>53670.000000</td>\n",
       "      <td>53670.000000</td>\n",
       "      <td>53670.000000</td>\n",
       "      <td>53670.00000</td>\n",
       "      <td>53670.000000</td>\n",
       "      <td>53670.000000</td>\n",
       "      <td>53670.000000</td>\n",
       "      <td>53670.000000</td>\n",
       "      <td>5.367000e+04</td>\n",
       "      <td>53670.000000</td>\n",
       "    </tr>\n",
       "    <tr>\n",
       "      <th>mean</th>\n",
       "      <td>0.227483</td>\n",
       "      <td>0.491350</td>\n",
       "      <td>22.871362</td>\n",
       "      <td>903.830398</td>\n",
       "      <td>2.0</td>\n",
       "      <td>-6.254130</td>\n",
       "      <td>1.824840</td>\n",
       "      <td>0.285259</td>\n",
       "      <td>0.545175</td>\n",
       "      <td>12.435681</td>\n",
       "      <td>0.16989</td>\n",
       "      <td>0.269834</td>\n",
       "      <td>286.685819</td>\n",
       "      <td>0.284131</td>\n",
       "      <td>7.410694</td>\n",
       "      <td>6.510515e+00</td>\n",
       "      <td>0.227483</td>\n",
       "    </tr>\n",
       "    <tr>\n",
       "      <th>std</th>\n",
       "      <td>0.419211</td>\n",
       "      <td>0.300066</td>\n",
       "      <td>8.308917</td>\n",
       "      <td>225.547271</td>\n",
       "      <td>0.0</td>\n",
       "      <td>856.557366</td>\n",
       "      <td>1.068803</td>\n",
       "      <td>0.244952</td>\n",
       "      <td>0.276287</td>\n",
       "      <td>4.154459</td>\n",
       "      <td>0.37554</td>\n",
       "      <td>0.488940</td>\n",
       "      <td>346.557851</td>\n",
       "      <td>0.245393</td>\n",
       "      <td>3.924639</td>\n",
       "      <td>4.259020e+01</td>\n",
       "      <td>0.419211</td>\n",
       "    </tr>\n",
       "    <tr>\n",
       "      <th>min</th>\n",
       "      <td>0.000000</td>\n",
       "      <td>0.000000</td>\n",
       "      <td>10.000000</td>\n",
       "      <td>500.217230</td>\n",
       "      <td>2.0</td>\n",
       "      <td>-2491.930000</td>\n",
       "      <td>0.000000</td>\n",
       "      <td>0.000000</td>\n",
       "      <td>0.000111</td>\n",
       "      <td>6.000000</td>\n",
       "      <td>0.00000</td>\n",
       "      <td>0.000000</td>\n",
       "      <td>0.000000</td>\n",
       "      <td>0.000000</td>\n",
       "      <td>2.000000</td>\n",
       "      <td>9.600000e-26</td>\n",
       "      <td>0.000000</td>\n",
       "    </tr>\n",
       "    <tr>\n",
       "      <th>25%</th>\n",
       "      <td>0.000000</td>\n",
       "      <td>0.222222</td>\n",
       "      <td>16.000000</td>\n",
       "      <td>717.460015</td>\n",
       "      <td>2.0</td>\n",
       "      <td>-23.775000</td>\n",
       "      <td>1.003000</td>\n",
       "      <td>0.053000</td>\n",
       "      <td>0.310257</td>\n",
       "      <td>9.000000</td>\n",
       "      <td>0.00000</td>\n",
       "      <td>0.000000</td>\n",
       "      <td>36.400000</td>\n",
       "      <td>0.055000</td>\n",
       "      <td>4.298000</td>\n",
       "      <td>1.200000e-05</td>\n",
       "      <td>0.000000</td>\n",
       "    </tr>\n",
       "    <tr>\n",
       "      <th>50%</th>\n",
       "      <td>0.000000</td>\n",
       "      <td>0.437500</td>\n",
       "      <td>22.000000</td>\n",
       "      <td>879.004765</td>\n",
       "      <td>2.0</td>\n",
       "      <td>-1.245000</td>\n",
       "      <td>1.483000</td>\n",
       "      <td>0.214000</td>\n",
       "      <td>0.559507</td>\n",
       "      <td>12.000000</td>\n",
       "      <td>0.00000</td>\n",
       "      <td>0.000000</td>\n",
       "      <td>127.500000</td>\n",
       "      <td>0.207000</td>\n",
       "      <td>5.695000</td>\n",
       "      <td>2.000000e-01</td>\n",
       "      <td>0.000000</td>\n",
       "    </tr>\n",
       "    <tr>\n",
       "      <th>75%</th>\n",
       "      <td>0.000000</td>\n",
       "      <td>0.777778</td>\n",
       "      <td>28.000000</td>\n",
       "      <td>1079.511708</td>\n",
       "      <td>2.0</td>\n",
       "      <td>4.090000</td>\n",
       "      <td>2.588000</td>\n",
       "      <td>0.515000</td>\n",
       "      <td>0.783754</td>\n",
       "      <td>15.000000</td>\n",
       "      <td>0.00000</td>\n",
       "      <td>0.000000</td>\n",
       "      <td>442.300000</td>\n",
       "      <td>0.513000</td>\n",
       "      <td>9.917000</td>\n",
       "      <td>5.000000e+00</td>\n",
       "      <td>0.000000</td>\n",
       "    </tr>\n",
       "    <tr>\n",
       "      <th>max</th>\n",
       "      <td>1.000000</td>\n",
       "      <td>1.000000</td>\n",
       "      <td>62.000000</td>\n",
       "      <td>1399.759890</td>\n",
       "      <td>2.0</td>\n",
       "      <td>2505.050000</td>\n",
       "      <td>6.301000</td>\n",
       "      <td>1.000000</td>\n",
       "      <td>0.999889</td>\n",
       "      <td>32.000000</td>\n",
       "      <td>1.00000</td>\n",
       "      <td>2.000000</td>\n",
       "      <td>3296.800000</td>\n",
       "      <td>0.854000</td>\n",
       "      <td>30.019000</td>\n",
       "      <td>1.000000e+03</td>\n",
       "      <td>1.000000</td>\n",
       "    </tr>\n",
       "  </tbody>\n",
       "</table>\n",
       "</div>"
      ],
      "text/plain": [
       "         is_reverse  percent_of_ions_matched    Total Ions       Obs m/z  \\\n",
       "count  53670.000000             53670.000000  53670.000000  53670.000000   \n",
       "mean       0.227483                 0.491350     22.871362    903.830398   \n",
       "std        0.419211                 0.300066      8.308917    225.547271   \n",
       "min        0.000000                 0.000000     10.000000    500.217230   \n",
       "25%        0.000000                 0.222222     16.000000    717.460015   \n",
       "50%        0.000000                 0.437500     22.000000    879.004765   \n",
       "75%        0.000000                 0.777778     28.000000   1079.511708   \n",
       "max        1.000000                 1.000000     62.000000   1399.759890   \n",
       "\n",
       "             z           PPM         XCorr   delta_xcorr  \\\n",
       "count  53670.0  53670.000000  53670.000000  53670.000000   \n",
       "mean       2.0     -6.254130      1.824840      0.285259   \n",
       "std        0.0    856.557366      1.068803      0.244952   \n",
       "min        2.0  -2491.930000      0.000000      0.000000   \n",
       "25%        2.0    -23.775000      1.003000      0.053000   \n",
       "50%        2.0     -1.245000      1.483000      0.214000   \n",
       "75%        2.0      4.090000      2.588000      0.515000   \n",
       "max        2.0   2505.050000      6.301000      1.000000   \n",
       "\n",
       "       relative_elution_time       pep_len  has_oxidized_met  \\\n",
       "count           53670.000000  53670.000000       53670.00000   \n",
       "mean                0.545175     12.435681           0.16989   \n",
       "std                 0.276287      4.154459           0.37554   \n",
       "min                 0.000111      6.000000           0.00000   \n",
       "25%                 0.310257      9.000000           0.00000   \n",
       "50%                 0.559507     12.000000           0.00000   \n",
       "75%                 0.783754     15.000000           0.00000   \n",
       "max                 0.999889     32.000000           1.00000   \n",
       "\n",
       "       num_missed_cleavages            Sp  unique_delta_expect        Expect  \\\n",
       "count          53670.000000  53670.000000         53670.000000  53670.000000   \n",
       "mean               0.269834    286.685819             0.284131      7.410694   \n",
       "std                0.488940    346.557851             0.245393      3.924639   \n",
       "min                0.000000      0.000000             0.000000      2.000000   \n",
       "25%                0.000000     36.400000             0.055000      4.298000   \n",
       "50%                0.000000    127.500000             0.207000      5.695000   \n",
       "75%                0.000000    442.300000             0.513000      9.917000   \n",
       "max                2.000000   3296.800000             0.854000     30.019000   \n",
       "\n",
       "           Expect.1        target  \n",
       "count  5.367000e+04  53670.000000  \n",
       "mean   6.510515e+00      0.227483  \n",
       "std    4.259020e+01      0.419211  \n",
       "min    9.600000e-26      0.000000  \n",
       "25%    1.200000e-05      0.000000  \n",
       "50%    2.000000e-01      0.000000  \n",
       "75%    5.000000e+00      0.000000  \n",
       "max    1.000000e+03      1.000000  "
      ]
     },
     "execution_count": 55,
     "metadata": {},
     "output_type": "execute_result"
    }
   ],
   "source": [
    "df.describe()"
   ]
  },
  {
   "cell_type": "code",
   "execution_count": 101,
   "metadata": {},
   "outputs": [],
   "source": [
    "# make df of just features and target\n",
    "data = df[features]"
   ]
  },
  {
   "cell_type": "code",
   "execution_count": 102,
   "metadata": {},
   "outputs": [],
   "source": [
    "# standardize data by subtracting mean and dividing by standard deviation\n",
    "\n",
    "standardized_data = (data - data.mean()) / data.std()"
   ]
  },
  {
   "cell_type": "code",
   "execution_count": 103,
   "metadata": {},
   "outputs": [],
   "source": [
    "data = pd.concat([standardized_data, df['target']], axis=1)"
   ]
  },
  {
   "cell_type": "code",
   "execution_count": 104,
   "metadata": {},
   "outputs": [],
   "source": [
    "# 'melt' dataframe into one target column and one features column -- for boxplotting etc.\n",
    "data = pd.melt(data,\n",
    "               id_vars=\"target\",\n",
    "               var_name=\"features\",\n",
    "               value_name='value')"
   ]
  },
  {
   "cell_type": "code",
   "execution_count": 105,
   "metadata": {},
   "outputs": [
    {
     "data": {
      "text/plain": [
       "(array([ 0,  1,  2,  3,  4,  5,  6,  7,  8,  9, 10, 11, 12, 13, 14]),\n",
       " <a list of 15 Text xticklabel objects>)"
      ]
     },
     "execution_count": 105,
     "metadata": {},
     "output_type": "execute_result"
    },
    {
     "data": {
      "image/png": "[encoded data removed]",
      "text/plain": [
       "<matplotlib.figure.Figure at 0x1a1712a278>"
      ]
     },
     "metadata": {},
     "output_type": "display_data"
    }
   ],
   "source": [
    "plt.figure(figsize=(10,10))\n",
    "sns.boxplot(x=\"features\", y=\"value\", hue=\"target\", data=data)\n",
    "plt.xticks(rotation=90)"
   ]
  },
  {
   "cell_type": "code",
   "execution_count": 23,
   "metadata": {
    "collapsed": true
   },
   "outputs": [],
   "source": [
    "X = df[features]\n",
    "y = df['target']"
   ]
  },
  {
   "cell_type": "code",
   "execution_count": 31,
   "metadata": {
    "collapsed": true
   },
   "outputs": [],
   "source": [
    "X_train, X_test, y_train, y_test = train_test_split(\n",
    "    X, y, test_size=0.25, random_state=42)"
   ]
  },
  {
   "cell_type": "code",
   "execution_count": 36,
   "metadata": {},
   "outputs": [
    {
     "data": {
      "text/plain": [
       "0.76993590699060965"
      ]
     },
     "execution_count": 36,
     "metadata": {},
     "output_type": "execute_result"
    }
   ],
   "source": [
    "svm = svm.SVC()\n",
    "svm.fit(X_train, y_train)\n",
    "svm.score(X_test, y_test)"
   ]
  },
  {
   "cell_type": "code",
   "execution_count": 32,
   "metadata": {},
   "outputs": [
    {
     "data": {
      "text/plain": [
       "0.76665672976598598"
      ]
     },
     "execution_count": 32,
     "metadata": {},
     "output_type": "execute_result"
    }
   ],
   "source": [
    "rfc = RandomForestClassifier()\n",
    "rfc.fit(X_train, y_train)\n",
    "rfc.score(X_test, y_test)"
   ]
  },
  {
   "cell_type": "code",
   "execution_count": null,
   "metadata": {
    "collapsed": true
   },
   "outputs": [],
   "source": [
    "# make series of feature importance and plot\n",
    "\n",
    "features = pd.Series(rfc.feature_importances_, # weights are the values in the series\n",
    "                     index=df.columns[5:-1]) # feature names are the index, show up as labels on the plot\n",
    "\n",
    "features = features.sort_values()\n",
    "\n",
    "features.plot(kind='bar')"
   ]
  },
  {
   "cell_type": "code",
   "execution_count": null,
   "metadata": {
    "collapsed": true
   },
   "outputs": [],
   "source": [
    "df.plot.scatter(x='Total Ions', y = 'Obs m/z')\n",
    "df.plot.scatter(x='Total Ions', y = 'z')\n",
    "df.plot.scatter(x='Total Ions', y = 'PPM')\n",
    "df.plot.scatter(x='Total Ions', y = 'pep_len')"
   ]
  },
  {
   "cell_type": "code",
   "execution_count": null,
   "metadata": {
    "collapsed": true
   },
   "outputs": [],
   "source": [
    "# plot by sepal length/width# plot b \n",
    "\n",
    "show_x = 'Sp'\n",
    "show_y = 'Expect'\n",
    "\n",
    "ax = df[df['target'] == 0].plot.scatter(x = show_x,\n",
    "                                             y = show_y,\n",
    "                                             color = '#7fc97f',\n",
    "                                             label = 0)"
   ]
  },
  {
   "cell_type": "code",
   "execution_count": null,
   "metadata": {
    "collapsed": true
   },
   "outputs": [],
   "source": [
    "ax = df[df['target'] == 1].plot.scatter(x = show_x,\n",
    "                                             y = show_y,\n",
    "                                             color = '#beaed4',\n",
    "                                             label = 0)"
   ]
  },
  {
   "cell_type": "code",
   "execution_count": null,
   "metadata": {
    "collapsed": true
   },
   "outputs": [],
   "source": [
    "sp = pd.Series(df['Sp'].values, index=df['target'])"
   ]
  },
  {
   "cell_type": "code",
   "execution_count": null,
   "metadata": {
    "collapsed": true
   },
   "outputs": [],
   "source": [
    "sp.iloc[:50]plot(kind='bar')"
   ]
  },
  {
   "cell_type": "code",
   "execution_count": null,
   "metadata": {
    "collapsed": true
   },
   "outputs": [],
   "source": [
    "df['Sp'].unique()"
   ]
  },
  {
   "cell_type": "code",
   "execution_count": null,
   "metadata": {
    "collapsed": true
   },
   "outputs": [],
   "source": [
    "df.groupby(['Sp'])['target'].count()"
   ]
  },
  {
   "cell_type": "code",
   "execution_count": null,
   "metadata": {
    "collapsed": true
   },
   "outputs": [],
   "source": [
    "df.groupby(['target'])['XCorr'].mean()"
   ]
  },
  {
   "cell_type": "code",
   "execution_count": null,
   "metadata": {
    "collapsed": true
   },
   "outputs": [],
   "source": [
    "df[df['target'] == 0].describe()"
   ]
  },
  {
   "cell_type": "code",
   "execution_count": null,
   "metadata": {
    "collapsed": true
   },
   "outputs": [],
   "source": [
    "df[df['target'] == 1].describe()"
   ]
  },
  {
   "cell_type": "code",
   "execution_count": null,
   "metadata": {
    "collapsed": true
   },
   "outputs": [],
   "source": [
    "df['target'].value_counts()"
   ]
  },
  {
   "cell_type": "code",
   "execution_count": null,
   "metadata": {
    "collapsed": true
   },
   "outputs": [],
   "source": []
  }
 ],
 "metadata": {
  "kernelspec": {
   "display_name": "Python 3",
   "language": "python",
   "name": "python3"
  },
  "language_info": {
   "codemirror_mode": {
    "name": "ipython",
    "version": 3
   },
   "file_extension": ".py",
   "mimetype": "text/x-python",
   "name": "python",
   "nbconvert_exporter": "python",
   "pygments_lexer": "ipython3",
   "version": "3.6.3"
  }
 },
 "nbformat": 4,
 "nbformat_minor": 2
}
