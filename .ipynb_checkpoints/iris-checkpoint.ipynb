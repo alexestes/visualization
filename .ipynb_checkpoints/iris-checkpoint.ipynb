{
 "cells": [
  {
   "cell_type": "code",
   "execution_count": null,
   "metadata": {
    "collapsed": true
   },
   "outputs": [],
   "source": [
    "import pandas as pd\n",
    "import matplotlib.pyplot as plt\n",
    "\n",
    "from sklearn import datasets\n",
    "from sklearn.ensemble import RandomForestClassifier\n",
    "from sklearn.model_selection import train_test_split\n",
    "\n",
    "%matplotlib inline"
   ]
  },
  {
   "cell_type": "markdown",
   "metadata": {},
   "source": [
    "## load dataset"
   ]
  },
  {
   "cell_type": "code",
   "execution_count": null,
   "metadata": {
    "collapsed": true
   },
   "outputs": [],
   "source": [
    "iris = datasets.load_iris()\n",
    "df = pd.DataFrame(iris.data, columns = iris.feature_names)\n",
    "df['target'] = iris.target\n",
    "\n",
    "def add_label_names(i):\n",
    "    return iris.target_names[i]\n",
    "df['label'] = df['target'].apply(add_label_names)"
   ]
  },
  {
   "cell_type": "markdown",
   "metadata": {},
   "source": [
    "## initial data exploration "
   ]
  },
  {
   "cell_type": "code",
   "execution_count": null,
   "metadata": {},
   "outputs": [],
   "source": [
    "df.head()"
   ]
  },
  {
   "cell_type": "code",
   "execution_count": null,
   "metadata": {},
   "outputs": [],
   "source": [
    "df.sample(frac=.1)"
   ]
  },
  {
   "cell_type": "code",
   "execution_count": null,
   "metadata": {},
   "outputs": [],
   "source": [
    "df.describe()"
   ]
  },
  {
   "cell_type": "markdown",
   "metadata": {},
   "source": [
    "## comparing features"
   ]
  },
  {
   "cell_type": "code",
   "execution_count": null,
   "metadata": {},
   "outputs": [],
   "source": [
    "for f in df.columns[:4]:\n",
    "    for ff in df.columns[:4]:\n",
    "        if ff != f:\n",
    "            df.plot.scatter(x=f, y = ff)"
   ]
  },
  {
   "cell_type": "markdown",
   "metadata": {},
   "source": [
    "## classification"
   ]
  },
  {
   "cell_type": "code",
   "execution_count": null,
   "metadata": {
    "collapsed": true
   },
   "outputs": [],
   "source": [
    "# get features and responses\n",
    "\n",
    "X = df.iloc[:, :4]\n",
    "y = df['target']\n",
    "\n",
    "# make train test split\n",
    "\n",
    "X_train, X_test, y_train, y_test = train_test_split(\n",
    "    X, y, test_size=0.25, random_state=42)"
   ]
  },
  {
   "cell_type": "code",
   "execution_count": null,
   "metadata": {},
   "outputs": [],
   "source": [
    "# initialize and fit model\n",
    "\n",
    "rfc = RandomForestClassifier()\n",
    "rfc.fit(X_train, y_train)"
   ]
  },
  {
   "cell_type": "code",
   "execution_count": null,
   "metadata": {},
   "outputs": [],
   "source": [
    "# make series of feature importance and plot\n",
    "\n",
    "features = pd.Series(rfc.feature_importances_, # weights are the values in the series\n",
    "                     index=df.columns[:4]) # feature names are the index, show up as labels on the plot\n",
    "\n",
    "features = features.sort_values()\n",
    "\n",
    "features.plot(kind='bar')"
   ]
  },
  {
   "cell_type": "code",
   "execution_count": null,
   "metadata": {},
   "outputs": [],
   "source": [
    "df.columns"
   ]
  },
  {
   "cell_type": "markdown",
   "metadata": {},
   "source": [
    "petal features are more important, according to our classifier. so what happens if we plot sepal variables and petal variables?\n",
    "\n",
    "**note:** if the categories overlap considerably, plot them separately"
   ]
  },
  {
   "cell_type": "code",
   "execution_count": null,
   "metadata": {},
   "outputs": [],
   "source": [
    "# plot by sepal length/width\n",
    "\n",
    "ax = df[df['label'] == 'setosa'].plot.scatter(x = 'sepal length (cm)',\n",
    "                                             y = 'sepal width (cm)',\n",
    "                                             color = '#7fc97f',\n",
    "                                             label = 'setosa')\n",
    "\n",
    "ax = df[df['label'] == 'virginica'].plot.scatter(x = 'sepal length (cm)',\n",
    "                                             y = 'sepal width (cm)',\n",
    "                                             color = '#beaed4',\n",
    "                                             label = 'virginica',\n",
    "                                             ax = ax)\n",
    "\n",
    "ax = df[df['label'] == 'versicolor'].plot.scatter(x = 'sepal length (cm)',\n",
    "                                                 y = 'sepal width (cm)',\n",
    "                                                 color = \"#fdc086\",\n",
    "                                                 label = 'versicolor',\n",
    "                                                 ax = ax)"
   ]
  },
  {
   "cell_type": "code",
   "execution_count": null,
   "metadata": {},
   "outputs": [],
   "source": [
    "# plot by petal length/width\n",
    "\n",
    "ax = df[df['label'] == 'setosa'].plot.scatter(x = 'petal length (cm)',\n",
    "                                             y = 'petal width (cm)',\n",
    "                                             color = '#7fc97f',\n",
    "                                             label = 'setosa')\n",
    "\n",
    "ax = df[df['label'] == 'virginica'].plot.scatter(x = 'petal length (cm)',\n",
    "                                             y = 'petal width (cm)',\n",
    "                                             color = '#beaed4',\n",
    "                                             label = 'virginica',\n",
    "                                             ax = ax)\n",
    "\n",
    "ax = df[df['label'] == 'versicolor'].plot.scatter(x = 'petal length (cm)',\n",
    "                                                 y = 'petal width (cm)',\n",
    "                                                 color = \"#fdc086\",\n",
    "                                                 label = 'versicolor',\n",
    "                                                 ax = ax)"
   ]
  },
  {
   "cell_type": "code",
   "execution_count": null,
   "metadata": {},
   "outputs": [],
   "source": [
    "# plot by petal length and sepal length\n",
    "\n",
    "ax = df[df['label'] == 'setosa'].plot.scatter(x = 'petal length (cm)',\n",
    "                                             y = 'sepal length (cm)',\n",
    "                                             color = '#7fc97f',\n",
    "                                             label = 'setosa')\n",
    "\n",
    "ax = df[df['label'] == 'virginica'].plot.scatter(x = 'petal length (cm)',\n",
    "                                             y = 'sepal length (cm)',\n",
    "                                             color = '#beaed4',\n",
    "                                             label = 'virginica',\n",
    "                                             ax = ax)\n",
    "\n",
    "ax = df[df['label'] == 'versicolor'].plot.scatter(x = 'petal length (cm)',\n",
    "                                                 y = 'sepal length (cm)',\n",
    "                                                 color = \"#fdc086\",\n",
    "                                                 label = 'versicolor',\n",
    "                                                 ax = ax)"
   ]
  },
  {
   "cell_type": "markdown",
   "metadata": {},
   "source": [
    "This again confirms the feature importances determined by the model. The classes are pretty well separated by petal length, but not nearly as much by sepal length."
   ]
  },
  {
   "cell_type": "code",
   "execution_count": null,
   "metadata": {
    "collapsed": true
   },
   "outputs": [],
   "source": []
  }
 ],
 "metadata": {
  "kernelspec": {
   "display_name": "Python 3",
   "language": "python",
   "name": "python3"
  },
  "language_info": {
   "codemirror_mode": {
    "name": "ipython",
    "version": 3
   },
   "file_extension": ".py",
   "mimetype": "text/x-python",
   "name": "python",
   "nbconvert_exporter": "python",
   "pygments_lexer": "ipython3",
   "version": "3.6.3"
  }
 },
 "nbformat": 4,
 "nbformat_minor": 2
}
